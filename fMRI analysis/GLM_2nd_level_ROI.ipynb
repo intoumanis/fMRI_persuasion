{
 "cells": [
  {
   "cell_type": "code",
   "execution_count": 40,
   "id": "9b19b59f-4c0c-4f25-a6ce-469586ff4790",
   "metadata": {},
   "outputs": [],
   "source": [
    "import glob\n",
    "from nilearn import image as img\n",
    "import os\n",
    "from nilearn import plotting\n",
    "import pandas as pd\n",
    "import numpy as np\n",
    "from nilearn.input_data import NiftiLabelsMasker\n",
    "from nilearn.glm import first_level\n",
    "from nilearn.mass_univariate import permuted_ols\n",
    "import nibabel as nib\n",
    "import csv\n",
    "from nltools.data import Brain_Data\n",
    "from nltools.mask import expand_mask, roi_to_brain\n",
    "from scipy.stats import norm"
   ]
  },
  {
   "cell_type": "code",
   "execution_count": 48,
   "id": "3cfb9c1c-f561-420d-87cb-bdb058a76405",
   "metadata": {},
   "outputs": [],
   "source": [
    "data_dir = 'D:/fmri_sugar/GLM_contrasts/'\n",
    "beta_sugar = glob.glob(os.path.join(data_dir, '*sugar_beta_map.nii.gz'))\n",
    "beta_sugarfree = glob.glob(os.path.join(data_dir, '*sugarfree_beta_map.nii.gz'))\n",
    "beta_nonedible = glob.glob(os.path.join(data_dir, '*nonedible_beta_map.nii.gz'))\n",
    "\n",
    "results_betas_sugar = pd.DataFrame()\n",
    "results_betas_sugarfree = pd.DataFrame()\n",
    "results_betas_nonedible = pd.DataFrame()"
   ]
  },
  {
   "cell_type": "code",
   "execution_count": 49,
   "id": "ee755a86-8477-4c6c-9c7f-4f01c56168ed",
   "metadata": {},
   "outputs": [],
   "source": [
    "# Specify the atlas (AAL3 in this case) and extract the ROIs\n",
    "atlas_file = 'D:/fmri_sugar/other/AAL3v1.nii'\n",
    "mask = Brain_Data(atlas_file)\n",
    "mask_x = expand_mask(mask)\n",
    "labels = pd.read_csv('D:/fmri_sugar/other/AAL3v1_labels.csv', header = None)\n",
    "labels = labels.dropna()\n",
    "labels = labels[0]"
   ]
  },
  {
   "cell_type": "code",
   "execution_count": 46,
   "id": "9cc914b2-e1e5-4c78-a19e-6e8fdf68b4cb",
   "metadata": {
    "tags": []
   },
   "outputs": [],
   "source": [
    "# For sugar files\n",
    "for file in range(len(beta_sugar)):\n",
    "    \n",
    "    func_file = beta_sugar[file]\n",
    "    subject_id = func_file.split('\\\\')[-1].split('_')[0]\n",
    "    func_img = nib.load(func_file)\n",
    "    data = Brain_Data(func_img)\n",
    "    roi = data.extract_roi(mask)\n",
    "    avgbeta = roi.T\n",
    "    \n",
    "    results_betas_sugar['ROI'] = labels\n",
    "    results_betas_sugar = results_betas_sugar.assign(**{f'subject-{subject_id}': avgbeta})\n",
    "    \n",
    "    results_betas_sugar.to_excel('D:/fmri_sugar/results/glm_roi/avgbeta_sugar.xlsx')"
   ]
  },
  {
   "cell_type": "code",
   "execution_count": 50,
   "id": "c26cc42e-6de5-41f3-86ac-a63074f7ad08",
   "metadata": {},
   "outputs": [],
   "source": [
    "# For sugar-free files\n",
    "for file in range(len(beta_sugarfree)):\n",
    "    \n",
    "    func_file = beta_sugarfree[file]\n",
    "    subject_id = func_file.split('\\\\')[-1].split('_')[0]\n",
    "    func_img = nib.load(func_file)\n",
    "    data = Brain_Data(func_img)\n",
    "    roi = data.extract_roi(mask)\n",
    "    avgbeta = roi.T\n",
    "    \n",
    "    results_betas_sugarfree['ROI'] = labels\n",
    "    results_betas_sugarfree = results_betas_sugarfree.assign(**{f'subject-{subject_id}': avgbeta})\n",
    "    \n",
    "    results_betas_sugarfree.to_excel('D:/fmri_sugar/results/glm_roi/avgbeta_sugarfree.xlsx')"
   ]
  },
  {
   "cell_type": "code",
   "execution_count": 51,
   "id": "698696ad-b0e4-46d6-937f-23f263ddef05",
   "metadata": {},
   "outputs": [],
   "source": [
    "# For non-edible files\n",
    "for file in range(len(beta_nonedible)):\n",
    "    \n",
    "    func_file = beta_nonedible[file]\n",
    "    subject_id = func_file.split('\\\\')[-1].split('_')[0]\n",
    "    func_img = nib.load(func_file)\n",
    "    data = Brain_Data(func_img)\n",
    "    roi = data.extract_roi(mask)\n",
    "    avgbeta = roi.T\n",
    "    \n",
    "    results_betas_nonedible['ROI'] = labels\n",
    "    results_betas_nonedible = results_betas_nonedible.assign(**{f'subject-{subject_id}': avgbeta})\n",
    "    \n",
    "    results_betas_nonedible.to_excel('D:/fmri_sugar/results/glm_roi/avgbeta_nonedible.xlsx')"
   ]
  }
 ],
 "metadata": {
  "kernelspec": {
   "display_name": "Python 3 (ipykernel)",
   "language": "python",
   "name": "python3"
  },
  "language_info": {
   "codemirror_mode": {
    "name": "ipython",
    "version": 3
   },
   "file_extension": ".py",
   "mimetype": "text/x-python",
   "name": "python",
   "nbconvert_exporter": "python",
   "pygments_lexer": "ipython3",
   "version": "3.10.4"
  }
 },
 "nbformat": 4,
 "nbformat_minor": 5
}
